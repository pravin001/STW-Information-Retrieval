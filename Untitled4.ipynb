{
 "cells": [
  {
   "cell_type": "code",
   "execution_count": null,
   "metadata": {
    "colab": {
     "base_uri": "https://localhost:8080/"
    },
    "executionInfo": {
     "elapsed": 22,
     "status": "ok",
     "timestamp": 1754376483946,
     "user": {
      "displayName": "bipin baruwal",
      "userId": "15317077193286692214"
     },
     "user_tz": -345
    },
    "id": "m9_BNQW6_ICH",
    "outputId": "3f0c5152-bc25-4cf1-ee8b-892fa9ca2710"
   },
   "outputs": [
    {
     "ename": "",
     "evalue": "",
     "output_type": "error",
     "traceback": [
      "\u001b[1;31mRunning cells with 'Python 3.11.9' requires the ipykernel package.\n",
      "\u001b[1;31m<a href='command:jupyter.createPythonEnvAndSelectController'>Create a Python Environment</a> with the required packages.\n",
      "\u001b[1;31mOr install 'ipykernel' using the command: '\"c:/Users/Prabin's PC/AppData/Local/Microsoft/WindowsApps/python3.11.exe\" -m pip install ipykernel -U --user --force-reinstall'"
     ]
    }
   ],
   "source": [
    "def get_posting_list(term, inverted_index):\n",
    "    return inverted_index.get(term, [])\n",
    "\n",
    "# Define the inverted index\n",
    "inverted_index = {\n",
    "    \"Brutus\": [1, 2, 4, 11, 31, 45, 173, 174],\n",
    "    \"Caesar\": [1, 2, 4, 5, 6, 16, 57, 132],\n",
    "    \"Calpurnia\": [2, 31, 54, 101]\n",
    "}\n",
    "\n",
    "# Test the function\n",
    "term = \"Brutus\"\n",
    "posting_list = get_posting_list(term, inverted_index)\n",
    "print(f\"Posting list for {term}: {posting_list}\")"
   ]
  },
  {
   "cell_type": "code",
   "execution_count": null,
   "metadata": {
    "colab": {
     "base_uri": "https://localhost:8080/"
    },
    "executionInfo": {
     "elapsed": 21,
     "status": "ok",
     "timestamp": 1754376504738,
     "user": {
      "displayName": "bipin baruwal",
      "userId": "15317077193286692214"
     },
     "user_tz": -345
    },
    "id": "9hMoynuW_O2n",
    "outputId": "6d866b5a-44bb-49f0-8681-b71606479910"
   },
   "outputs": [],
   "source": [
    "def intersect(p1, p2):\n",
    "    answer = []\n",
    "    while p1 and p2:\n",
    "        if p1[0] == p2[0]:\n",
    "            answer.append(p1[0])\n",
    "            p1 = p1[1:]\n",
    "            p2 = p2[1:]\n",
    "        elif p1[0] < p2[0]:\n",
    "            p1 = p1[1:]\n",
    "        else:\n",
    "            p2 = p2[1:]\n",
    "    return answer\n",
    "\n",
    "# Test with \"Brutus AND Caesar\"\n",
    "p1 = inverted_index[\"Brutus\"]\n",
    "p2 = inverted_index[\"Caesar\"]\n",
    "result = intersect(p1, p2)\n",
    "print(f\"Result of 'Brutus AND Caesar': {result}\")\n"
   ]
  }
 ],
 "metadata": {
  "colab": {
   "authorship_tag": "ABX9TyOIjykTiOb9DsVwzGVPohTB",
   "provenance": []
  },
  "kernelspec": {
   "display_name": "Python 3",
   "name": "python3"
  },
  "language_info": {
   "name": "python",
   "version": "3.11.9"
  }
 },
 "nbformat": 4,
 "nbformat_minor": 0
}
